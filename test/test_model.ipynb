{
 "cells": [
  {
   "cell_type": "code",
   "execution_count": 1,
   "metadata": {},
   "outputs": [
    {
     "output_type": "stream",
     "name": "stderr",
     "text": "Using TensorFlow backend.\n"
    }
   ],
   "source": [
    "from PIL import Image\n",
    "from keras.models import Sequential\n",
    "from keras.layers import Dense\n",
    "from keras.models import model_from_json\n",
    "import numpy as np\n",
    "import os\n",
    "import cv2\n",
    "import json\n",
    "from keras.utils import np_utils"
   ]
  },
  {
   "cell_type": "code",
   "execution_count": 3,
   "metadata": {},
   "outputs": [],
   "source": [
    "# load model\n",
    "\n",
    "architecture_file_path = \"G:/model/size_100_resnet_34\"\n",
    "model_weights_file_path = \"G:/model_100_resnet_34_0224_5\"\n",
    "\n",
    "with open(\"{}.json\".format(architecture_file_path), \"r\") as json_file:\n",
    "    model = model_from_json(json_file.read())\n",
    "\n",
    "model.load_weights(\"{}.h5\".format(model_weights_file_path))\n",
    "\n",
    "model.compile(loss=\"categorical_crossentropy\",\n",
    "              optimizer=\"adam\",\n",
    "              metrics=[\"categorical_accuracy\"])"
   ]
  },
  {
   "cell_type": "code",
   "execution_count": 5,
   "metadata": {},
   "outputs": [
    {
     "output_type": "stream",
     "name": "stdout",
     "text": "======0======\n6f\n6f\n6f\n6f\n6f\n6f\n6f\n6f\n6f\n6f\n6f\n6f\n6f\n6f\n6f\n6f\n6f\n6f\n6f\n6f\n======0======\n======1======\n1f\n1f\n1f\n1f\n1f\n1f\n1f\n1f\n1f\n1f\n1f\n1f\n1f\n6f\n6f\n6f\n1f\n1f\n1f\n1f\n======1======\n======2======\n8f\n8f\n8f\n8f\n8f\n8f\n8f\n8f\n8f\n8f\n8f\n8f\n8f\n8f\n8f\n8f\n8f\n8f\n8f\n8f\n======2======\n======3======\n6f\n6f\n6f\n6f\n6f\n6f\n6f\n6f\n6f\n6f\n6f\n6f\n6f\n6f\n6f\n6f\n6f\n6f\n6f\n8f\n======3======\n======4======\n4f\n4f\n4f\n4f\n4f\n4f\n4f\n4f\n4f\n4f\n4f\n4f\n4f\n4f\n4f\n4f\n4f\n4f\n4f\n4f\n======4======\n======5======\n1f\n1f\n1f\n1f\n1f\n1f\n1f\n1f\n1f\n1f\n1f\n1f\n1f\n1f\n1f\n1f\n1f\n1f\n1f\n1f\n======5======\n======6======\n6f\n6f\n6f\n6f\n6f\n6f\n6f\n6f\n6f\n6f\n6f\n6f\n6f\n6f\n6f\n6f\n6f\n6f\n6f\n6f\n======6======\n======7======\n7f\n7f\n7f\n7f\n7f\n7f\n7f\n7f\n7f\n7f\n7f\n7f\n7f\n7f\n7f\n7f\n7f\n7f\n7f\n7f\n======7======\n======8======\n8f\n8f\n8f\n8f\n8f\n8f\n8f\n8f\n8f\n8f\n8f\n8f\n8f\n8f\n8f\n8f\n8f\n8f\n8f\n8f\n======8======\n======9======\n6f\n6f\n6f\n6f\n6f\n6f\n6f\n6f\n6f\n6f\n6f\n6f\n6f\n6f\n6f\n6f\n6f\n6f\n6f\n6f\n======9======\n"
    }
   ],
   "source": [
    "# predict(get true value)\n",
    "\n",
    "root_path = \"G:/0331/\"\n",
    "extension = \"png\"\n",
    "\n",
    "for floor in range(10):\n",
    "    test_image_count = 1\n",
    "    \n",
    "    print(\"======{}======\".format(floor))\n",
    "\n",
    "    while (test_image_count <= 20):\n",
    "        test_img = np.array(Image.open(\"{}{}f/{}.{}\".format(root_path, floor, test_image_count, extension)).convert(\"L\").resize([100, 100], Image.ANTIALIAS))\n",
    "        test_img = test_img / 255.\n",
    "        test_img -= 0.5\n",
    "        test_img *= 2.\n",
    "        test_img = np.expand_dims(test_img, axis=0)\n",
    "        test_img = np.expand_dims(test_img, axis=3)\n",
    "\n",
    "        predict = model.predict(test_img)\n",
    "        predict = np.argmax(predict)\n",
    "        \n",
    "        if predict == 0:\n",
    "            print(\"close\")\n",
    "        elif predict == 9:\n",
    "            print(\"open\")\n",
    "        else:\n",
    "            print(\"{}f\".format(predict))\n",
    "\n",
    "        test_image_count += 1\n",
    "    \n",
    "    print(\"======{}======\".format(floor))"
   ]
  },
  {
   "cell_type": "code",
   "execution_count": 4,
   "metadata": {},
   "outputs": [
    {
     "name": "stdout",
     "output_type": "stream",
     "text": [
      "(1000, 299, 299)\n",
      "1000/1000 [==============================] - 4s 4ms/step\n",
      "test loss: 0.04996020597219467\n",
      "test accuary: 0.996\n"
     ]
    }
   ],
   "source": [
    "# evaluate(get accuracy)\n",
    "\n",
    "root_path = \"E:/0212/test/\"\n",
    "extension = np.load(\"E:/0212/test/size_299_test_data.npy\")\n",
    "print(extension.shape)\n",
    "x_test = np.expand_dims(extension, axis=3)\n",
    "labels = []\n",
    "label_count = {}\n",
    "\n",
    "# get label count\n",
    "for i in range(10):\n",
    "    # change path\n",
    "    path = \"{}{}f/\".format(root_path, i)\n",
    "    file_count = len([name for name in os.listdir(path) if os.path.isfile(os.path.join(path, name))])\n",
    "    label_count[str(i)] = file_count\n",
    "\n",
    "# get label\n",
    "for key, label_count in label_count.items():\n",
    "    key = int(key)\n",
    "    for i in range(label_count):\n",
    "        labels.append(key)\n",
    "\n",
    "labels = np_utils.to_categorical(labels)\n",
    "        \n",
    "loss, accuary = model.evaluate(x_test, np.array(labels))\n",
    "print(\"test loss: {}\".format(loss))\n",
    "print(\"test accuary: {}\".format(accuary))"
   ]
  }
 ],
 "metadata": {
  "kernelspec": {
   "display_name": "Python 3",
   "language": "python",
   "name": "python3"
  },
  "language_info": {
   "codemirror_mode": {
    "name": "ipython",
    "version": 3
   },
   "file_extension": ".py",
   "mimetype": "text/x-python",
   "name": "python",
   "nbconvert_exporter": "python",
   "pygments_lexer": "ipython3",
   "version": "3.6.8-final"
  }
 },
 "nbformat": 4,
 "nbformat_minor": 2
}